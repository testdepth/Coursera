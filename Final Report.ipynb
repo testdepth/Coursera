{
 "cells": [
  {
   "cell_type": "markdown",
   "metadata": {},
   "source": [
    "# Final Report - Predicting Traffic for New Venues by Neighborhood\n",
    "\n",
    "### Mark Atkins"
   ]
  },
  {
   "cell_type": "markdown",
   "metadata": {},
   "source": [
    "## Introduction/Business Problem\n",
    "\n",
    "This project is targeted towards real estate developers and entrepeneurs looking to open new venues in the Toronto area. Each neighborhood is has a unique population and demographic makeup that likely have different interests based on the local popluation. If a property or storefront becomes available in a certain neighborhood, we want to know, based on the traffic and interests in that neighborhood, what type of venue will likely be the most successful by predicting checkins at that new location.\n",
    "\n",
    "This tool will allow developers to preict the future traffic of a new venue in a given neighborhood in order to make an educated decision on both what type of venue to open, and whether or not the traffic in that new venue will be sustainable for profitable operations."
   ]
  },
  {
   "cell_type": "markdown",
   "metadata": {},
   "source": [
    "## Data\n",
    "\n",
    "This project leverages location data from wikipedia for each Toronto neighborhood, as well as location data from Foursquare including venue checkins, likes, and details."
   ]
  }
 ],
 "metadata": {
  "kernelspec": {
   "display_name": "Python 3",
   "language": "python",
   "name": "python3"
  },
  "language_info": {
   "name": ""
  }
 },
 "nbformat": 4,
 "nbformat_minor": 4
}
