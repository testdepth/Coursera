{
 "cells": [
  {
   "cell_type": "markdown",
   "metadata": {},
   "source": [
    "# Final Report - Predicting Effect of Venues on Mean Housing Price\n",
    "\n",
    "### Mark Atkins"
   ]
  },
  {
   "cell_type": "markdown",
   "metadata": {},
   "source": [
    "## Introduction/Business Problem\n",
    "\n",
    "This project is targeted towards real estate developers and entrepeneurs looking to open new venues in the Toronto area. Each neighborhood is has a unique population and demographic makeup that likely have different interests based on the local popluation. If a property or storefront becomes available in a certain neighborhood, we want to know, based on the traffic and interests in that neighborhood, what type of venue will likely be the most successful by predicting checkins at that new location.\n",
    "\n",
    "This tool will allow developers to preict the future traffic of a new venue in a given neighborhood in order to make an educated decision on both what type of venue to open, and whether or not the traffic in that new venue will be sustainable for profitable operations."
   ]
  },
  {
   "cell_type": "markdown",
   "metadata": {},
   "source": [
    "## Data\n",
    "\n",
    "This project leverages location data from the city of Toronto for each Toronto neighborhood, as well as location data from Foursquare including venue checkins, likes, and details. Average housing price was drawn from open data from the city of Toronto available at https://open.toronto.ca/dataset/wellbeing-toronto-economics/.\n",
    "Location data drawn from https://open.toronto.ca/dataset/neighbourhoods/"
   ]
  },
  {
   "cell_type": "markdown",
   "metadata": {},
   "source": [
    "## Methodology\n",
    "\n",
    "After cleaning the data I initially ran a correlation for the presence of venues and the effect on home prices. I started by using venue types with correlation > 0.2, and built a multiple linear regression model to predict home prices based on the number of those venues in each neighborhood. I found that the R^2 for those models was consistently <0.2 indicating relatively poor fit. I also changed the correlation minimum between 0.1 and 0.3 and found that the optimum R^2 in those ranges was still around 0.2. Since the data is relatively sparse, in that most neighborhoods did not have the target venues, I build a new model which simply compared a sum of all Foursquare venues in a neighborhood and used linear regression to try and predict home price. Once again this yielded a low R^2"
   ]
  },
  {
   "cell_type": "markdown",
   "metadata": {},
   "source": [
    "## Results\n",
    "\n",
    "I found that both venues highly correlating to home price, as well as summation of all venues was not an adequate predictor for Home Price. While this is a negative result, it does show that simply building or purchasing venues in a given neighborhood will not implicitly increase home prices, which is important for real estate investors."
   ]
  },
  {
   "cell_type": "markdown",
   "metadata": {},
   "source": [
    "## Conclusion/Future Work\n",
    "\n",
    "Future work should take into account not only Foursquare venues, but also local crime and other tangible data not included in this project."
   ]
  }
 ],
 "metadata": {
  "kernelspec": {
   "display_name": "Python 3",
   "language": "python",
   "name": "python3"
  },
  "language_info": {
   "codemirror_mode": {
    "name": "ipython",
    "version": 3
   },
   "file_extension": ".py",
   "mimetype": "text/x-python",
   "name": "python",
   "nbconvert_exporter": "python",
   "pygments_lexer": "ipython3",
   "version": "3.7.6"
  }
 },
 "nbformat": 4,
 "nbformat_minor": 4
}
